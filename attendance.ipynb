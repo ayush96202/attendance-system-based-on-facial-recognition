{
 "cells": [
  {
   "cell_type": "code",
   "execution_count": 1,
   "metadata": {},
   "outputs": [
    {
     "name": "stdout",
     "output_type": "stream",
     "text": [
      "label: 2\n",
      "good Mornig,  AYUSH\n"
     ]
    },
    {
     "data": {
      "text/plain": [
       "<function destroyAllWindows>"
      ]
     },
     "execution_count": 1,
     "metadata": {},
     "output_type": "execute_result"
    }
   ],
   "source": [
    "import os\n",
    "import cv2\n",
    "import numpy as np\n",
    "import faceRecognition1 as fr\n",
    "\n",
    "\n",
    "#This module captures images via webcam and performs face recognition\n",
    "face_recognizer = cv2.face.LBPHFaceRecognizer_create()\n",
    "face_recognizer.read('trainingData.yml')#Load saved training data\n",
    "\n",
    "name = {0 : \"Priyanka\",1 : \"Kangana\",2 : \"AYUSH\"}\n",
    "\n",
    "\n",
    "cap=cv2.VideoCapture(0)\n",
    "\n",
    "while True:\n",
    "    ret,test_img=cap.read()# captures frame and returns boolean value and captured image\n",
    "    faces_detected,gray_img=fr.faceDetection(test_img)\n",
    "\n",
    "\n",
    "\n",
    "    for (x,y,w,h) in faces_detected:\n",
    "      cv2.rectangle(test_img,(x,y),(x+w,y+h),(255,0,0),thickness=7)\n",
    "\n",
    "    resized_img = cv2.resize(test_img, (1000, 700))\n",
    "    cv2.imshow('face detection Tutorial ',resized_img)\n",
    "    cv2.waitKey(10)\n",
    "\n",
    "    f=0\n",
    "    for face in faces_detected:\n",
    "        (x,y,w,h)=face\n",
    "        roi_gray=gray_img[y:y+w, x:x+h]\n",
    "        label,confidence=face_recognizer.predict(roi_gray)#predicting the label of given image\n",
    "        #print(\"confidence:\",confidence)\n",
    "        print(\"label:\",label)\n",
    "        print(\"good Mornig, \",name[label])\n",
    "        fr.draw_rect(test_img,face)\n",
    "        predicted_name=name[label]\n",
    "        if confidence > 39:#If confidence less than 37 then don't print predicted face text on screen\n",
    "            fr.put_text(test_img,predicted_name,x,y)\n",
    "            f=1\n",
    "            break\n",
    "    if(f==1):\n",
    "        break\n",
    "            \n",
    "\n",
    "\n",
    "    resized_img = cv2.resize(test_img, (1000, 700))\n",
    "    cv2.imshow('face recognition tutorial ',resized_img)\n",
    "    if cv2.waitKey(10) == ord('q'):#wait until 'q' key is pressed\n",
    "        break\n",
    "\n",
    "\n",
    "cap.release()\n",
    "cv2.destroyAllWindows\n",
    "\n"
   ]
  },
  {
   "cell_type": "code",
   "execution_count": null,
   "metadata": {},
   "outputs": [],
   "source": []
  },
  {
   "cell_type": "code",
   "execution_count": null,
   "metadata": {},
   "outputs": [],
   "source": []
  }
 ],
 "metadata": {
  "kernelspec": {
   "display_name": "Python 3",
   "language": "python",
   "name": "python3"
  },
  "language_info": {
   "codemirror_mode": {
    "name": "ipython",
    "version": 3
   },
   "file_extension": ".py",
   "mimetype": "text/x-python",
   "name": "python",
   "nbconvert_exporter": "python",
   "pygments_lexer": "ipython3",
   "version": "3.6.5"
  }
 },
 "nbformat": 4,
 "nbformat_minor": 2
}
